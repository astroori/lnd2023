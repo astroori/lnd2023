{
 "cells": [
  {
   "cell_type": "markdown",
   "id": "0a7bccda",
   "metadata": {},
   "source": [
    "В файлах b_1.txt, b_2.txt и b_3.txt предоставлены данные о росте и весе людей. Определите файл, в котором скорее всего расположены данные о росте и весе студентов физкультурного института, посещающих лыжную секцию. Выбор файла обоснуйте графически."
   ]
  }
 ],
 "metadata": {
  "kernelspec": {
   "display_name": "Python 3 (ipykernel)",
   "language": "python",
   "name": "python3"
  },
  "language_info": {
   "codemirror_mode": {
    "name": "ipython",
    "version": 3
   },
   "file_extension": ".py",
   "mimetype": "text/x-python",
   "name": "python",
   "nbconvert_exporter": "python",
   "pygments_lexer": "ipython3",
   "version": "3.9.13"
  }
 },
 "nbformat": 4,
 "nbformat_minor": 5
}
