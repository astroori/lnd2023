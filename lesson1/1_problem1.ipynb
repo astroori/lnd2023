{
 "cells": [
  {
   "cell_type": "markdown",
   "id": "ce5a221e",
   "metadata": {},
   "source": [
    "Задача: Приведены 3 файла: 1_1.txt, 1_2.txt, 1_3.txt. Установите, в каком из файлов могут содержатся сведения о значениях IQ (коэффециента интеллекта), жителей некоторого среднестатистического города, предоставленных исследователями."
   ]
  }
 ],
 "metadata": {
  "kernelspec": {
   "display_name": "Python 3 (ipykernel)",
   "language": "python",
   "name": "python3"
  },
  "language_info": {
   "codemirror_mode": {
    "name": "ipython",
    "version": 3
   },
   "file_extension": ".py",
   "mimetype": "text/x-python",
   "name": "python",
   "nbconvert_exporter": "python",
   "pygments_lexer": "ipython3",
   "version": "3.9.13"
  }
 },
 "nbformat": 4,
 "nbformat_minor": 5
}
