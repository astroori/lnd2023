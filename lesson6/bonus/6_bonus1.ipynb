{
 "cells": [
  {
   "cell_type": "markdown",
   "id": "394649f5",
   "metadata": {},
   "source": [
    "Для задачи, разобранной в уроке 6 про выдачу кредита представьте, что вам нужно не только предсказать выдачу или невыдачу кредита конкретному человеку, но и обосновать логику банка при выдаче указанного кредита. С использованием инструментов библиотеки scikit learn попробуйте это сделать, т.е. обоснуйте, по каким критериям происходит выдача или невыдача кредита."
   ]
  }
 ],
 "metadata": {
  "kernelspec": {
   "display_name": "Python 3 (ipykernel)",
   "language": "python",
   "name": "python3"
  },
  "language_info": {
   "codemirror_mode": {
    "name": "ipython",
    "version": 3
   },
   "file_extension": ".py",
   "mimetype": "text/x-python",
   "name": "python",
   "nbconvert_exporter": "python",
   "pygments_lexer": "ipython3",
   "version": "3.9.13"
  }
 },
 "nbformat": 4,
 "nbformat_minor": 5
}
