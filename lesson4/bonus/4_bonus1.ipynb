{
 "cells": [
  {
   "cell_type": "markdown",
   "id": "b7db6ec9",
   "metadata": {},
   "source": [
    "Познакомьтесь с данным примером использования инструмента PCA: [https://scikit-learn.org/stable/auto_examples/decomposition/plot_pca_iris.html](https://scikit-learn.org/stable/auto_examples/decomposition/plot_pca_iris.html). В приведённом примере производится снижение размерности для датасета iris, встроенного в scikit learn. Познакомьтесь также с содержанием указанного датасета и узнайте, какие данные он содержит."
   ]
  },
  {
   "cell_type": "markdown",
   "id": "4bc2a6eb",
   "metadata": {},
   "source": [
    "Обратите внимание, что в данном примере размерность данных снижается до 3 и затем визуализируется на 3-мерном графике. Видоизмените приведённый выше пример, снизив размерность до 2. Визуализируйте получившиеся результаты на 2-мерном графике. Сравните результаты визуализации в 3-мерном и 2-мерном случае. Установите, в чём их сходство и в чём отличие. "
   ]
  },
  {
   "cell_type": "markdown",
   "id": "cf889840",
   "metadata": {},
   "source": [
    "Сделайте вывод по существу: что демонстрирует 2-мерная визуализация датасета Iris, учитывая содержание этого датасета. Какую информацию вам даёт получившаяся визуализация про датасет Iris?"
   ]
  }
 ],
 "metadata": {
  "kernelspec": {
   "display_name": "Python 3 (ipykernel)",
   "language": "python",
   "name": "python3"
  },
  "language_info": {
   "codemirror_mode": {
    "name": "ipython",
    "version": 3
   },
   "file_extension": ".py",
   "mimetype": "text/x-python",
   "name": "python",
   "nbconvert_exporter": "python",
   "pygments_lexer": "ipython3",
   "version": "3.9.13"
  }
 },
 "nbformat": 4,
 "nbformat_minor": 5
}
