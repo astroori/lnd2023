{
 "cells": [
  {
   "cell_type": "markdown",
   "id": "0c9a9295",
   "metadata": {},
   "source": [
    "В каталогах с именами, начинающимися на lesson находятся задания по каждому из занятий. В указанных каталогах вы найдёте описание задач для каждого урока, а также файлы с данными. Также внутри каждого каталога находится каталог bonus - дополнительные задания для тех, кто выбрал дополнительный час информатики."
   ]
  },
  {
   "cell_type": "markdown",
   "id": "0aa42c0b",
   "metadata": {},
   "source": [
    "Для решения заданий рекомендуется использовать онлайн среду разработки [Jupyter Lite](https://jupyter.org/try-jupyter/lab/). Главное удобство данной среды - отсутствие необходимости устанавливать на компьютер Python, среду разработки и соответствующие библиотеки."
   ]
  },
  {
   "cell_type": "markdown",
   "id": "f7beb4b5",
   "metadata": {},
   "source": []
  }
 ],
 "metadata": {
  "kernelspec": {
   "display_name": "Python 3 (ipykernel)",
   "language": "python",
   "name": "python3"
  },
  "language_info": {
   "codemirror_mode": {
    "name": "ipython",
    "version": 3
   },
   "file_extension": ".py",
   "mimetype": "text/x-python",
   "name": "python",
   "nbconvert_exporter": "python",
   "pygments_lexer": "ipython3",
   "version": "3.9.13"
  }
 },
 "nbformat": 4,
 "nbformat_minor": 5
}
