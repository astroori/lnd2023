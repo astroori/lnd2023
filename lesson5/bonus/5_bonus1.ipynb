{
 "cells": [
  {
   "cell_type": "markdown",
   "id": "54fd59b4",
   "metadata": {},
   "source": [
    "В файле b5_1.txt представлены данные телефонного справочника организации: фамилия и год рождения сотрудника, его рабочий номер телефона, отдел и должность. Примените любой алгоритм кластеризации и подтвердите, что группировка реальных данных происходит по адекватному принципу."
   ]
  },
  {
   "cell_type": "markdown",
   "id": "4440cc09",
   "metadata": {},
   "source": [
    "Подсказка: в дополнение к используемым в прошых уроках инструментам вам пригодится инструмент, который позволяет преобразовать тектовые данные в числовые для их дальнейшего анализа."
   ]
  }
 ],
 "metadata": {
  "kernelspec": {
   "display_name": "Python 3 (ipykernel)",
   "language": "python",
   "name": "python3"
  },
  "language_info": {
   "codemirror_mode": {
    "name": "ipython",
    "version": 3
   },
   "file_extension": ".py",
   "mimetype": "text/x-python",
   "name": "python",
   "nbconvert_exporter": "python",
   "pygments_lexer": "ipython3",
   "version": "3.9.13"
  }
 },
 "nbformat": 4,
 "nbformat_minor": 5
}
