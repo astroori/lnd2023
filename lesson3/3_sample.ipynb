{
 "cells": [
  {
   "cell_type": "markdown",
   "id": "a5c7db8f",
   "metadata": {},
   "source": [
    "В дальнейшем в рамках курса будет использоваться две библиотеки. С первой вы уже смогли поработать - это библиотека для визуализации данных matplotlib. Вторая предназначена для применения инструментов машинного обучения и искусственного интеллекта - библиотека [Scikit learn](https://scikit-learn.org/stable/). Данная библиотека включает в себя несколько групп инструментов, которые предназначены для различных аспектов анализа данных."
   ]
  }
 ],
 "metadata": {
  "kernelspec": {
   "display_name": "Python 3 (ipykernel)",
   "language": "python",
   "name": "python3"
  },
  "language_info": {
   "codemirror_mode": {
    "name": "ipython",
    "version": 3
   },
   "file_extension": ".py",
   "mimetype": "text/x-python",
   "name": "python",
   "nbconvert_exporter": "python",
   "pygments_lexer": "ipython3",
   "version": "3.9.13"
  }
 },
 "nbformat": 4,
 "nbformat_minor": 5
}
