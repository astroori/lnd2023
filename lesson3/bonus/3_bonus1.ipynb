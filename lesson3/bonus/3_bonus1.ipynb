{
 "cells": [
  {
   "cell_type": "markdown",
   "id": "46dca6f6",
   "metadata": {},
   "source": [
    "Бонусное задание к уроку 3 выполняется с файлом 3_1.txt, и в рамках задачи, рассмотренной на уроке 3 (3_problem1)."
   ]
  },
  {
   "cell_type": "markdown",
   "id": "fc106be0",
   "metadata": {},
   "source": [
    "Попробуйте решить вышеуказанную задачу с применением метода Agglomerative clustering библиотеки scikit-learn. Опишите, в чём принципиально отличие Agglomerative clustering от метода, который был рассмотрен на уроке."
   ]
  }
 ],
 "metadata": {
  "kernelspec": {
   "display_name": "Python 3 (ipykernel)",
   "language": "python",
   "name": "python3"
  },
  "language_info": {
   "codemirror_mode": {
    "name": "ipython",
    "version": 3
   },
   "file_extension": ".py",
   "mimetype": "text/x-python",
   "name": "python",
   "nbconvert_exporter": "python",
   "pygments_lexer": "ipython3",
   "version": "3.9.13"
  }
 },
 "nbformat": 4,
 "nbformat_minor": 5
}
